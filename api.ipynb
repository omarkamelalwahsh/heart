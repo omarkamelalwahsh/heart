{
 "cells": [
  {
   "cell_type": "code",
   "execution_count": null,
   "id": "d7afea40",
   "metadata": {},
   "outputs": [],
   "source": [
    "from flask import Flask, request, jsonify\n",
    "import joblib\n",
    "\n",
    "app = Flask(__name__)\n",
    "\n",
    "# Load the model during application startup\n",
    "model = joblib.load('model.pkl')\n",
    "\n",
    "@app.route(\"/\")\n",
    "def hello():\n",
    "    return \"Hello from the last session in our course\"\n",
    "\n",
    "@app.route(\"/predict_heart\", methods=[\"POST\"])\n",
    "def predict_heart():\n",
    "    try:\n",
    "        if request.method == 'POST':\n",
    "            # Check Content-Type\n",
    "            content_type = request.headers.get('Content-Type')\n",
    "            if not content_type or 'application/json' not in content_type:\n",
    "                return jsonify({\"error\": \"Unsupported Media Type: Content-Type should be 'application/json'\"}), 415  # 415 is the HTTP status code for Unsupported Media Type\n",
    "            \n",
    "            data = request.get_json()  # Get JSON data\n",
    "            if not data:\n",
    "                return jsonify({\"error\": \"No JSON data provided\"}), 400  # 400 is the HTTP status code for Bad Request\n",
    "\n",
    "            # Feature extraction\n",
    "            features = [\"bmi\", \"Smoking\", \"Stroke\", \"PhysicalHealth\", \"Sex\", \"AgeCategory\", \"Diabetic\", \"GenHealth\", \"SleepTime\"]\n",
    "            \n",
    "            # Ensure data types are correct\n",
    "            input_data = [\n",
    "                float(data.get(\"bmi\", 0)),            # Assuming \"bmi\" is a float\n",
    "                int(data.get(\"Smoking\", 0)),           # Assuming \"Smoking\" is an integer\n",
    "                int(data.get(\"Stroke\", 0)),            # Assuming \"Stroke\" is an integer\n",
    "                float(data.get(\"PhysicalHealth\", 0)),  # Assuming \"PhysicalHealth\" is a float\n",
    "                int(data.get(\"Sex\", 0)),               # Assuming \"Sex\" is an integer\n",
    "                int(data.get(\"AgeCategory\", 0)),       # Assuming \"AgeCategory\" is an integer\n",
    "                int(data.get(\"Diabetic\", 0)),          # Assuming \"Diabetic\" is an integer\n",
    "                int(data.get(\"GenHealth\", 0)),         # Assuming \"GenHealth\" is an integer\n",
    "                float(data.get(\"SleepTime\", 0))        # Assuming \"SleepTime\" is a float\n",
    "            ]\n",
    "\n",
    "            # Model prediction\n",
    "            prediction = model.predict([input_data])[0]\n",
    "\n",
    "            # Interpret the prediction\n",
    "            result_string = \"Positive for Heart Disease\" if prediction == 1 else \"Negative for Heart Disease\" \n",
    "\n",
    "            return jsonify({\"result\": result_string})\n",
    "\n",
    "    except Exception as e:\n",
    "        return jsonify({\"error\": str(e)}), 500  # 500 is the HTTP status code for Internal Server Error\n",
    "\n",
    "if __name__ == '__main__':\n",
    "    app.run(host='0.0.0.0', port=5000)\n",
    "\n"
   ]
  }
 ],
 "metadata": {
  "kernelspec": {
   "display_name": "Python 3",
   "language": "python",
   "name": "python3"
  },
  "language_info": {
   "codemirror_mode": {
    "name": "ipython",
    "version": 3
   },
   "file_extension": ".py",
   "mimetype": "text/x-python",
   "name": "python",
   "nbconvert_exporter": "python",
   "pygments_lexer": "ipython3",
   "version": "3.11.5"
  },
  "toc": {
   "base_numbering": 1,
   "nav_menu": {},
   "number_sections": true,
   "sideBar": true,
   "skip_h1_title": false,
   "title_cell": "Table of Contents",
   "title_sidebar": "Contents",
   "toc_cell": false,
   "toc_position": {},
   "toc_section_display": true,
   "toc_window_display": false
  },
  "varInspector": {
   "cols": {
    "lenName": 16,
    "lenType": 16,
    "lenVar": 40
   },
   "kernels_config": {
    "python": {
     "delete_cmd_postfix": "",
     "delete_cmd_prefix": "del ",
     "library": "var_list.py",
     "varRefreshCmd": "print(var_dic_list())"
    },
    "r": {
     "delete_cmd_postfix": ") ",
     "delete_cmd_prefix": "rm(",
     "library": "var_list.r",
     "varRefreshCmd": "cat(var_dic_list()) "
    }
   },
   "types_to_exclude": [
    "module",
    "function",
    "builtin_function_or_method",
    "instance",
    "_Feature"
   ],
   "window_display": false
  }
 },
 "nbformat": 4,
 "nbformat_minor": 5
}
